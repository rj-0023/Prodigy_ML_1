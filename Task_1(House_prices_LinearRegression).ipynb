{
 "cells": [
  {
   "cell_type": "code",
   "execution_count": 1,
   "metadata": {
    "id": "L-ZfJKxoU7_h"
   },
   "outputs": [],
   "source": [
    "import numpy as np\n",
    "import pandas as pd\n",
    "import matplotlib.pyplot as plt\n",
    "import seaborn as sns"
   ]
  },
  {
   "cell_type": "code",
   "execution_count": 2,
   "metadata": {
    "id": "-flMKZTAVe-Y"
   },
   "outputs": [],
   "source": [
    "df = pd.read_csv('train.csv')"
   ]
  },
  {
   "cell_type": "code",
   "execution_count": 3,
   "metadata": {
    "colab": {
     "base_uri": "https://localhost:8080/"
    },
    "id": "iaxX4YTqWfDb",
    "outputId": "308070ff-946e-4de3-e387-a7070be3973c"
   },
   "outputs": [
    {
     "data": {
      "text/plain": [
       "Index(['Id', 'MSSubClass', 'MSZoning', 'LotFrontage', 'LotArea', 'Street',\n",
       "       'Alley', 'LotShape', 'LandContour', 'Utilities', 'LotConfig',\n",
       "       'LandSlope', 'Neighborhood', 'Condition1', 'Condition2', 'BldgType',\n",
       "       'HouseStyle', 'OverallQual', 'OverallCond', 'YearBuilt', 'YearRemodAdd',\n",
       "       'RoofStyle', 'RoofMatl', 'Exterior1st', 'Exterior2nd', 'MasVnrType',\n",
       "       'MasVnrArea', 'ExterQual', 'ExterCond', 'Foundation', 'BsmtQual',\n",
       "       'BsmtCond', 'BsmtExposure', 'BsmtFinType1', 'BsmtFinSF1',\n",
       "       'BsmtFinType2', 'BsmtFinSF2', 'BsmtUnfSF', 'TotalBsmtSF', 'Heating',\n",
       "       'HeatingQC', 'CentralAir', 'Electrical', '1stFlrSF', '2ndFlrSF',\n",
       "       'LowQualFinSF', 'GrLivArea', 'BsmtFullBath', 'BsmtHalfBath', 'FullBath',\n",
       "       'HalfBath', 'BedroomAbvGr', 'KitchenAbvGr', 'KitchenQual',\n",
       "       'TotRmsAbvGrd', 'Functional', 'Fireplaces', 'FireplaceQu', 'GarageType',\n",
       "       'GarageYrBlt', 'GarageFinish', 'GarageCars', 'GarageArea', 'GarageQual',\n",
       "       'GarageCond', 'PavedDrive', 'WoodDeckSF', 'OpenPorchSF',\n",
       "       'EnclosedPorch', '3SsnPorch', 'ScreenPorch', 'PoolArea', 'PoolQC',\n",
       "       'Fence', 'MiscFeature', 'MiscVal', 'MoSold', 'YrSold', 'SaleType',\n",
       "       'SaleCondition', 'SalePrice'],\n",
       "      dtype='object')"
      ]
     },
     "execution_count": 3,
     "metadata": {},
     "output_type": "execute_result"
    }
   ],
   "source": [
    "df.columns"
   ]
  },
  {
   "cell_type": "code",
   "execution_count": 4,
   "metadata": {
    "id": "0p0gHjNOpxUL"
   },
   "outputs": [],
   "source": [
    "y = df['SalePrice'].values"
   ]
  },
  {
   "cell_type": "code",
   "execution_count": 5,
   "metadata": {
    "colab": {
     "base_uri": "https://localhost:8080/"
    },
    "id": "zdtbatuvo74R",
    "outputId": "61684ce9-6833-40aa-b8f4-23b778db6b0a"
   },
   "outputs": [
    {
     "data": {
      "text/plain": [
       "array(['Normal', 'Abnorml', 'Partial', 'AdjLand', 'Alloca', 'Family'],\n",
       "      dtype=object)"
      ]
     },
     "execution_count": 5,
     "metadata": {},
     "output_type": "execute_result"
    }
   ],
   "source": [
    "df['SaleCondition'].unique()"
   ]
  },
  {
   "cell_type": "code",
   "execution_count": 6,
   "metadata": {
    "colab": {
     "base_uri": "https://localhost:8080/"
    },
    "id": "20mOnv4jWt6N",
    "outputId": "16ba7080-6be9-42dd-9065-3ce6c90d50ef"
   },
   "outputs": [
    {
     "data": {
      "text/plain": [
       "(1460, 81)"
      ]
     },
     "execution_count": 6,
     "metadata": {},
     "output_type": "execute_result"
    }
   ],
   "source": [
    "df.shape"
   ]
  },
  {
   "cell_type": "code",
   "execution_count": 7,
   "metadata": {
    "colab": {
     "base_uri": "https://localhost:8080/"
    },
    "id": "UZH7x-Xjb1mG",
    "outputId": "95b3d89b-ade4-4a8e-df71-550a0dfe4e1a"
   },
   "outputs": [
    {
     "data": {
      "text/plain": [
       "array([dtype('int64'), dtype('O'), dtype('float64')], dtype=object)"
      ]
     },
     "execution_count": 7,
     "metadata": {},
     "output_type": "execute_result"
    }
   ],
   "source": [
    "df.dtypes.unique()"
   ]
  },
  {
   "cell_type": "code",
   "execution_count": 8,
   "metadata": {
    "colab": {
     "base_uri": "https://localhost:8080/"
    },
    "id": "43NxITZ0bz7t",
    "outputId": "6fe82448-b63f-40eb-cca5-93b5c41fa1a6"
   },
   "outputs": [
    {
     "data": {
      "text/plain": [
       "(1460, 35)"
      ]
     },
     "execution_count": 8,
     "metadata": {},
     "output_type": "execute_result"
    }
   ],
   "source": [
    "df.select_dtypes(include='int').shape"
   ]
  },
  {
   "cell_type": "code",
   "execution_count": 9,
   "metadata": {
    "colab": {
     "base_uri": "https://localhost:8080/"
    },
    "id": "ThPrt-NDc6CW",
    "outputId": "014b6ada-28f0-408f-f65c-ce6f91c54561"
   },
   "outputs": [
    {
     "data": {
      "text/plain": [
       "(1460, 43)"
      ]
     },
     "execution_count": 9,
     "metadata": {},
     "output_type": "execute_result"
    }
   ],
   "source": [
    "df.select_dtypes(include='object').shape"
   ]
  },
  {
   "cell_type": "code",
   "execution_count": 10,
   "metadata": {
    "colab": {
     "base_uri": "https://localhost:8080/"
    },
    "id": "rIoYDX92dIvP",
    "outputId": "d4c838df-c490-45fb-8d7d-9f7361483b85"
   },
   "outputs": [
    {
     "data": {
      "text/plain": [
       "(1460, 3)"
      ]
     },
     "execution_count": 10,
     "metadata": {},
     "output_type": "execute_result"
    }
   ],
   "source": [
    "df.select_dtypes(include='float64').shape"
   ]
  },
  {
   "cell_type": "code",
   "execution_count": 11,
   "metadata": {
    "colab": {
     "base_uri": "https://localhost:8080/",
     "height": 256
    },
    "id": "nITlkug1dyuf",
    "outputId": "6b15dab5-a4ee-4e56-e853-7f5a3892c628"
   },
   "outputs": [
    {
     "data": {
      "text/html": [
       "<div>\n",
       "<style scoped>\n",
       "    .dataframe tbody tr th:only-of-type {\n",
       "        vertical-align: middle;\n",
       "    }\n",
       "\n",
       "    .dataframe tbody tr th {\n",
       "        vertical-align: top;\n",
       "    }\n",
       "\n",
       "    .dataframe thead th {\n",
       "        text-align: right;\n",
       "    }\n",
       "</style>\n",
       "<table border=\"1\" class=\"dataframe\">\n",
       "  <thead>\n",
       "    <tr style=\"text-align: right;\">\n",
       "      <th></th>\n",
       "      <th>MSZoning</th>\n",
       "      <th>Street</th>\n",
       "      <th>Alley</th>\n",
       "      <th>LotShape</th>\n",
       "      <th>LandContour</th>\n",
       "      <th>Utilities</th>\n",
       "      <th>LotConfig</th>\n",
       "      <th>LandSlope</th>\n",
       "      <th>Neighborhood</th>\n",
       "      <th>Condition1</th>\n",
       "      <th>...</th>\n",
       "      <th>GarageType</th>\n",
       "      <th>GarageFinish</th>\n",
       "      <th>GarageQual</th>\n",
       "      <th>GarageCond</th>\n",
       "      <th>PavedDrive</th>\n",
       "      <th>PoolQC</th>\n",
       "      <th>Fence</th>\n",
       "      <th>MiscFeature</th>\n",
       "      <th>SaleType</th>\n",
       "      <th>SaleCondition</th>\n",
       "    </tr>\n",
       "  </thead>\n",
       "  <tbody>\n",
       "    <tr>\n",
       "      <th>0</th>\n",
       "      <td>RL</td>\n",
       "      <td>Pave</td>\n",
       "      <td>NaN</td>\n",
       "      <td>Reg</td>\n",
       "      <td>Lvl</td>\n",
       "      <td>AllPub</td>\n",
       "      <td>Inside</td>\n",
       "      <td>Gtl</td>\n",
       "      <td>CollgCr</td>\n",
       "      <td>Norm</td>\n",
       "      <td>...</td>\n",
       "      <td>Attchd</td>\n",
       "      <td>RFn</td>\n",
       "      <td>TA</td>\n",
       "      <td>TA</td>\n",
       "      <td>Y</td>\n",
       "      <td>NaN</td>\n",
       "      <td>NaN</td>\n",
       "      <td>NaN</td>\n",
       "      <td>WD</td>\n",
       "      <td>Normal</td>\n",
       "    </tr>\n",
       "    <tr>\n",
       "      <th>1</th>\n",
       "      <td>RL</td>\n",
       "      <td>Pave</td>\n",
       "      <td>NaN</td>\n",
       "      <td>Reg</td>\n",
       "      <td>Lvl</td>\n",
       "      <td>AllPub</td>\n",
       "      <td>FR2</td>\n",
       "      <td>Gtl</td>\n",
       "      <td>Veenker</td>\n",
       "      <td>Feedr</td>\n",
       "      <td>...</td>\n",
       "      <td>Attchd</td>\n",
       "      <td>RFn</td>\n",
       "      <td>TA</td>\n",
       "      <td>TA</td>\n",
       "      <td>Y</td>\n",
       "      <td>NaN</td>\n",
       "      <td>NaN</td>\n",
       "      <td>NaN</td>\n",
       "      <td>WD</td>\n",
       "      <td>Normal</td>\n",
       "    </tr>\n",
       "    <tr>\n",
       "      <th>2</th>\n",
       "      <td>RL</td>\n",
       "      <td>Pave</td>\n",
       "      <td>NaN</td>\n",
       "      <td>IR1</td>\n",
       "      <td>Lvl</td>\n",
       "      <td>AllPub</td>\n",
       "      <td>Inside</td>\n",
       "      <td>Gtl</td>\n",
       "      <td>CollgCr</td>\n",
       "      <td>Norm</td>\n",
       "      <td>...</td>\n",
       "      <td>Attchd</td>\n",
       "      <td>RFn</td>\n",
       "      <td>TA</td>\n",
       "      <td>TA</td>\n",
       "      <td>Y</td>\n",
       "      <td>NaN</td>\n",
       "      <td>NaN</td>\n",
       "      <td>NaN</td>\n",
       "      <td>WD</td>\n",
       "      <td>Normal</td>\n",
       "    </tr>\n",
       "    <tr>\n",
       "      <th>3</th>\n",
       "      <td>RL</td>\n",
       "      <td>Pave</td>\n",
       "      <td>NaN</td>\n",
       "      <td>IR1</td>\n",
       "      <td>Lvl</td>\n",
       "      <td>AllPub</td>\n",
       "      <td>Corner</td>\n",
       "      <td>Gtl</td>\n",
       "      <td>Crawfor</td>\n",
       "      <td>Norm</td>\n",
       "      <td>...</td>\n",
       "      <td>Detchd</td>\n",
       "      <td>Unf</td>\n",
       "      <td>TA</td>\n",
       "      <td>TA</td>\n",
       "      <td>Y</td>\n",
       "      <td>NaN</td>\n",
       "      <td>NaN</td>\n",
       "      <td>NaN</td>\n",
       "      <td>WD</td>\n",
       "      <td>Abnorml</td>\n",
       "    </tr>\n",
       "    <tr>\n",
       "      <th>4</th>\n",
       "      <td>RL</td>\n",
       "      <td>Pave</td>\n",
       "      <td>NaN</td>\n",
       "      <td>IR1</td>\n",
       "      <td>Lvl</td>\n",
       "      <td>AllPub</td>\n",
       "      <td>FR2</td>\n",
       "      <td>Gtl</td>\n",
       "      <td>NoRidge</td>\n",
       "      <td>Norm</td>\n",
       "      <td>...</td>\n",
       "      <td>Attchd</td>\n",
       "      <td>RFn</td>\n",
       "      <td>TA</td>\n",
       "      <td>TA</td>\n",
       "      <td>Y</td>\n",
       "      <td>NaN</td>\n",
       "      <td>NaN</td>\n",
       "      <td>NaN</td>\n",
       "      <td>WD</td>\n",
       "      <td>Normal</td>\n",
       "    </tr>\n",
       "  </tbody>\n",
       "</table>\n",
       "<p>5 rows × 43 columns</p>\n",
       "</div>"
      ],
      "text/plain": [
       "  MSZoning Street Alley LotShape LandContour Utilities LotConfig LandSlope  \\\n",
       "0       RL   Pave   NaN      Reg         Lvl    AllPub    Inside       Gtl   \n",
       "1       RL   Pave   NaN      Reg         Lvl    AllPub       FR2       Gtl   \n",
       "2       RL   Pave   NaN      IR1         Lvl    AllPub    Inside       Gtl   \n",
       "3       RL   Pave   NaN      IR1         Lvl    AllPub    Corner       Gtl   \n",
       "4       RL   Pave   NaN      IR1         Lvl    AllPub       FR2       Gtl   \n",
       "\n",
       "  Neighborhood Condition1  ... GarageType GarageFinish GarageQual GarageCond  \\\n",
       "0      CollgCr       Norm  ...     Attchd          RFn         TA         TA   \n",
       "1      Veenker      Feedr  ...     Attchd          RFn         TA         TA   \n",
       "2      CollgCr       Norm  ...     Attchd          RFn         TA         TA   \n",
       "3      Crawfor       Norm  ...     Detchd          Unf         TA         TA   \n",
       "4      NoRidge       Norm  ...     Attchd          RFn         TA         TA   \n",
       "\n",
       "  PavedDrive PoolQC Fence MiscFeature SaleType SaleCondition  \n",
       "0          Y    NaN   NaN         NaN       WD        Normal  \n",
       "1          Y    NaN   NaN         NaN       WD        Normal  \n",
       "2          Y    NaN   NaN         NaN       WD        Normal  \n",
       "3          Y    NaN   NaN         NaN       WD       Abnorml  \n",
       "4          Y    NaN   NaN         NaN       WD        Normal  \n",
       "\n",
       "[5 rows x 43 columns]"
      ]
     },
     "execution_count": 11,
     "metadata": {},
     "output_type": "execute_result"
    }
   ],
   "source": [
    "df.select_dtypes(include='object').head()"
   ]
  },
  {
   "cell_type": "markdown",
   "metadata": {},
   "source": [
    "Dataset of houses based on their square footage and the number of bedrooms and bathrooms."
   ]
  },
  {
   "cell_type": "code",
   "execution_count": 12,
   "metadata": {
    "id": "KLcPYhB9Xl7G"
   },
   "outputs": [],
   "source": [
    "X = df[['LotArea', 'MasVnrArea', 'BsmtFinSF1', 'BsmtFinSF2', 'BsmtUnfSF', 'TotalBsmtSF','1stFlrSF', '2ndFlrSF', 'LowQualFinSF', 'GrLivArea', 'GarageArea', 'WoodDeckSF', 'OpenPorchSF', 'EnclosedPorch', '3SsnPorch', 'ScreenPorch', 'PoolArea', 'BsmtFullBath', 'BsmtHalfBath', 'FullBath', 'BedroomAbvGr', 'KitchenAbvGr', 'TotRmsAbvGrd']]"
   ]
  },
  {
   "cell_type": "code",
   "execution_count": 13,
   "metadata": {
    "colab": {
     "base_uri": "https://localhost:8080/"
    },
    "id": "2AEuc19mrb3C",
    "outputId": "5542ee73-a55c-4ed1-96c6-904289b9402d"
   },
   "outputs": [
    {
     "data": {
      "text/plain": [
       "LotArea          0\n",
       "MasVnrArea       8\n",
       "BsmtFinSF1       0\n",
       "BsmtFinSF2       0\n",
       "BsmtUnfSF        0\n",
       "TotalBsmtSF      0\n",
       "1stFlrSF         0\n",
       "2ndFlrSF         0\n",
       "LowQualFinSF     0\n",
       "GrLivArea        0\n",
       "GarageArea       0\n",
       "WoodDeckSF       0\n",
       "OpenPorchSF      0\n",
       "EnclosedPorch    0\n",
       "3SsnPorch        0\n",
       "ScreenPorch      0\n",
       "PoolArea         0\n",
       "BsmtFullBath     0\n",
       "BsmtHalfBath     0\n",
       "FullBath         0\n",
       "BedroomAbvGr     0\n",
       "KitchenAbvGr     0\n",
       "TotRmsAbvGrd     0\n",
       "dtype: int64"
      ]
     },
     "execution_count": 13,
     "metadata": {},
     "output_type": "execute_result"
    }
   ],
   "source": [
    "X.isna().sum()"
   ]
  },
  {
   "cell_type": "code",
   "execution_count": 14,
   "metadata": {
    "colab": {
     "base_uri": "https://localhost:8080/"
    },
    "id": "JU4hnj8zrxRE",
    "outputId": "6e968dfa-a3f1-41ef-a0aa-325fba4a8215"
   },
   "outputs": [
    {
     "data": {
      "text/plain": [
       "LotArea          0\n",
       "MasVnrArea       0\n",
       "BsmtFinSF1       0\n",
       "BsmtFinSF2       0\n",
       "BsmtUnfSF        0\n",
       "TotalBsmtSF      0\n",
       "1stFlrSF         0\n",
       "2ndFlrSF         0\n",
       "LowQualFinSF     0\n",
       "GrLivArea        0\n",
       "GarageArea       0\n",
       "WoodDeckSF       0\n",
       "OpenPorchSF      0\n",
       "EnclosedPorch    0\n",
       "3SsnPorch        0\n",
       "ScreenPorch      0\n",
       "PoolArea         0\n",
       "BsmtFullBath     0\n",
       "BsmtHalfBath     0\n",
       "FullBath         0\n",
       "BedroomAbvGr     0\n",
       "KitchenAbvGr     0\n",
       "TotRmsAbvGrd     0\n",
       "dtype: int64"
      ]
     },
     "execution_count": 14,
     "metadata": {},
     "output_type": "execute_result"
    }
   ],
   "source": [
    "X = X.fillna(0)\n",
    "X.isna().sum()"
   ]
  },
  {
   "cell_type": "markdown",
   "metadata": {},
   "source": [
    "#Splitting the dataset"
   ]
  },
  {
   "cell_type": "code",
   "execution_count": 15,
   "metadata": {
    "id": "7fex5x2GpvQy"
   },
   "outputs": [],
   "source": [
    "from sklearn.model_selection import train_test_split\n",
    "X_train, X_valid, y_train, y_valid = train_test_split(X, y, test_size = 0.2, random_state = 0)"
   ]
  },
  {
   "cell_type": "markdown",
   "metadata": {
    "id": "FsZ3yud-pn17"
   },
   "source": [
    "#Linear Regression"
   ]
  },
  {
   "cell_type": "code",
   "execution_count": 16,
   "metadata": {
    "colab": {
     "base_uri": "https://localhost:8080/",
     "height": 75
    },
    "id": "5mLyq5Gxprlk",
    "outputId": "795e836e-a022-45d5-d099-07729315fae0"
   },
   "outputs": [
    {
     "data": {
      "text/html": [
       "<style>#sk-container-id-1 {color: black;background-color: white;}#sk-container-id-1 pre{padding: 0;}#sk-container-id-1 div.sk-toggleable {background-color: white;}#sk-container-id-1 label.sk-toggleable__label {cursor: pointer;display: block;width: 100%;margin-bottom: 0;padding: 0.3em;box-sizing: border-box;text-align: center;}#sk-container-id-1 label.sk-toggleable__label-arrow:before {content: \"▸\";float: left;margin-right: 0.25em;color: #696969;}#sk-container-id-1 label.sk-toggleable__label-arrow:hover:before {color: black;}#sk-container-id-1 div.sk-estimator:hover label.sk-toggleable__label-arrow:before {color: black;}#sk-container-id-1 div.sk-toggleable__content {max-height: 0;max-width: 0;overflow: hidden;text-align: left;background-color: #f0f8ff;}#sk-container-id-1 div.sk-toggleable__content pre {margin: 0.2em;color: black;border-radius: 0.25em;background-color: #f0f8ff;}#sk-container-id-1 input.sk-toggleable__control:checked~div.sk-toggleable__content {max-height: 200px;max-width: 100%;overflow: auto;}#sk-container-id-1 input.sk-toggleable__control:checked~label.sk-toggleable__label-arrow:before {content: \"▾\";}#sk-container-id-1 div.sk-estimator input.sk-toggleable__control:checked~label.sk-toggleable__label {background-color: #d4ebff;}#sk-container-id-1 div.sk-label input.sk-toggleable__control:checked~label.sk-toggleable__label {background-color: #d4ebff;}#sk-container-id-1 input.sk-hidden--visually {border: 0;clip: rect(1px 1px 1px 1px);clip: rect(1px, 1px, 1px, 1px);height: 1px;margin: -1px;overflow: hidden;padding: 0;position: absolute;width: 1px;}#sk-container-id-1 div.sk-estimator {font-family: monospace;background-color: #f0f8ff;border: 1px dotted black;border-radius: 0.25em;box-sizing: border-box;margin-bottom: 0.5em;}#sk-container-id-1 div.sk-estimator:hover {background-color: #d4ebff;}#sk-container-id-1 div.sk-parallel-item::after {content: \"\";width: 100%;border-bottom: 1px solid gray;flex-grow: 1;}#sk-container-id-1 div.sk-label:hover label.sk-toggleable__label {background-color: #d4ebff;}#sk-container-id-1 div.sk-serial::before {content: \"\";position: absolute;border-left: 1px solid gray;box-sizing: border-box;top: 0;bottom: 0;left: 50%;z-index: 0;}#sk-container-id-1 div.sk-serial {display: flex;flex-direction: column;align-items: center;background-color: white;padding-right: 0.2em;padding-left: 0.2em;position: relative;}#sk-container-id-1 div.sk-item {position: relative;z-index: 1;}#sk-container-id-1 div.sk-parallel {display: flex;align-items: stretch;justify-content: center;background-color: white;position: relative;}#sk-container-id-1 div.sk-item::before, #sk-container-id-1 div.sk-parallel-item::before {content: \"\";position: absolute;border-left: 1px solid gray;box-sizing: border-box;top: 0;bottom: 0;left: 50%;z-index: -1;}#sk-container-id-1 div.sk-parallel-item {display: flex;flex-direction: column;z-index: 1;position: relative;background-color: white;}#sk-container-id-1 div.sk-parallel-item:first-child::after {align-self: flex-end;width: 50%;}#sk-container-id-1 div.sk-parallel-item:last-child::after {align-self: flex-start;width: 50%;}#sk-container-id-1 div.sk-parallel-item:only-child::after {width: 0;}#sk-container-id-1 div.sk-dashed-wrapped {border: 1px dashed gray;margin: 0 0.4em 0.5em 0.4em;box-sizing: border-box;padding-bottom: 0.4em;background-color: white;}#sk-container-id-1 div.sk-label label {font-family: monospace;font-weight: bold;display: inline-block;line-height: 1.2em;}#sk-container-id-1 div.sk-label-container {text-align: center;}#sk-container-id-1 div.sk-container {/* jupyter's `normalize.less` sets `[hidden] { display: none; }` but bootstrap.min.css set `[hidden] { display: none !important; }` so we also need the `!important` here to be able to override the default hidden behavior on the sphinx rendered scikit-learn.org. See: https://github.com/scikit-learn/scikit-learn/issues/21755 */display: inline-block !important;position: relative;}#sk-container-id-1 div.sk-text-repr-fallback {display: none;}</style><div id=\"sk-container-id-1\" class=\"sk-top-container\"><div class=\"sk-text-repr-fallback\"><pre>LinearRegression()</pre><b>In a Jupyter environment, please rerun this cell to show the HTML representation or trust the notebook. <br />On GitHub, the HTML representation is unable to render, please try loading this page with nbviewer.org.</b></div><div class=\"sk-container\" hidden><div class=\"sk-item\"><div class=\"sk-estimator sk-toggleable\"><input class=\"sk-toggleable__control sk-hidden--visually\" id=\"sk-estimator-id-1\" type=\"checkbox\" checked><label for=\"sk-estimator-id-1\" class=\"sk-toggleable__label sk-toggleable__label-arrow\">LinearRegression</label><div class=\"sk-toggleable__content\"><pre>LinearRegression()</pre></div></div></div></div></div>"
      ],
      "text/plain": [
       "LinearRegression()"
      ]
     },
     "execution_count": 16,
     "metadata": {},
     "output_type": "execute_result"
    }
   ],
   "source": [
    "from sklearn.linear_model import LinearRegression\n",
    "reg = LinearRegression()\n",
    "reg.fit(X_train, y_train)"
   ]
  },
  {
   "cell_type": "code",
   "execution_count": 17,
   "metadata": {
    "colab": {
     "base_uri": "https://localhost:8080/"
    },
    "id": "7MLVIfdqybHT",
    "outputId": "740f3e70-2377-4bcd-82e6-a0f1f14bd8ba"
   },
   "outputs": [
    {
     "data": {
      "text/plain": [
       "0.7907042708833473"
      ]
     },
     "execution_count": 17,
     "metadata": {},
     "output_type": "execute_result"
    }
   ],
   "source": [
    "reg.score(X_train, y_train)"
   ]
  },
  {
   "cell_type": "code",
   "execution_count": 18,
   "metadata": {
    "colab": {
     "base_uri": "https://localhost:8080/"
    },
    "id": "Mj2IZmJHy1rU",
    "outputId": "264f755c-9c56-4336-ef94-20cbf5888230"
   },
   "outputs": [
    {
     "data": {
      "text/plain": [
       "30299.629941625928"
      ]
     },
     "execution_count": 18,
     "metadata": {},
     "output_type": "execute_result"
    }
   ],
   "source": [
    "reg.intercept_"
   ]
  },
  {
   "cell_type": "code",
   "execution_count": 19,
   "metadata": {
    "id": "R3Yh9d4OsIrL"
   },
   "outputs": [],
   "source": [
    "y_pred = reg.predict(X_valid)"
   ]
  },
  {
   "cell_type": "code",
   "execution_count": 20,
   "metadata": {
    "colab": {
     "base_uri": "https://localhost:8080/"
    },
    "id": "reAHBrZgui5k",
    "outputId": "0d35b656-1071-4ac5-d57d-38ba1fa483db"
   },
   "outputs": [
    {
     "data": {
      "text/plain": [
       "26864"
      ]
     },
     "execution_count": 20,
     "metadata": {},
     "output_type": "execute_result"
    }
   ],
   "source": [
    "X_train.size"
   ]
  },
  {
   "cell_type": "code",
   "execution_count": 21,
   "metadata": {
    "colab": {
     "base_uri": "https://localhost:8080/"
    },
    "id": "oZsr1Nq5uH0D",
    "outputId": "97a2965c-7223-41ba-c1fe-6b7552133cbd"
   },
   "outputs": [
    {
     "name": "stdout",
     "output_type": "stream",
     "text": [
      "[[254738.3  200624.  ]\n",
      " [130472.94 133000.  ]\n",
      " [107295.02 110000.  ]\n",
      " [230832.55 192000.  ]\n",
      " [108230.64  88000.  ]\n",
      " [107523.53  85000.  ]\n",
      " [231846.91 282922.  ]\n",
      " [142131.82 141000.  ]\n",
      " [512135.28 745000.  ]\n",
      " [133205.66 148800.  ]\n",
      " [183020.67 208900.  ]\n",
      " [156177.86 136905.  ]\n",
      " [246435.88 225000.  ]\n",
      " [118727.5  123000.  ]\n",
      " [137195.85 119200.  ]\n",
      " [151111.27 145000.  ]\n",
      " [224987.78 190000.  ]\n",
      " [ 93223.73 123600.  ]\n",
      " [127404.19 149350.  ]\n",
      " [142060.61 155000.  ]\n",
      " [163215.6  166000.  ]\n",
      " [143260.5  144500.  ]\n",
      " [120006.2  110000.  ]\n",
      " [147805.66 174000.  ]\n",
      " [208701.92 185000.  ]\n",
      " [162761.87 168000.  ]\n",
      " [165967.79 177500.  ]\n",
      " [ 67752.35  84500.  ]\n",
      " [286662.21 320000.  ]\n",
      " [138064.14 118500.  ]\n",
      " [192362.92 110000.  ]\n",
      " [195329.07 213000.  ]\n",
      " [139228.01 156000.  ]\n",
      " [281277.33 250000.  ]\n",
      " [295407.74 372500.  ]\n",
      " [170187.36 175000.  ]\n",
      " [251352.01 277500.  ]\n",
      " [106082.91 112500.  ]\n",
      " [213292.99 263000.  ]\n",
      " [330260.83 325000.  ]\n",
      " [217601.53 243000.  ]\n",
      " [124025.42 130000.  ]\n",
      " [163029.5  164990.  ]\n",
      " [279002.25 280000.  ]\n",
      " [321920.21 403000.  ]\n",
      " [132401.38 119000.  ]\n",
      " [128177.9  125000.  ]\n",
      " [102724.37 128200.  ]\n",
      " [191724.2  172500.  ]\n",
      " [ 81384.61  84900.  ]\n",
      " [363047.88 412500.  ]\n",
      " [154031.82 156000.  ]\n",
      " [226674.37 167900.  ]\n",
      " [ 72327.86 100000.  ]\n",
      " [256581.54 275000.  ]\n",
      " [ 97560.86 123000.  ]\n",
      " [153633.12 132000.  ]\n",
      " [221063.25 239900.  ]\n",
      " [138611.92 139000.  ]\n",
      " [ 93517.72 115000.  ]\n",
      " [145267.95 137500.  ]\n",
      " [135842.6  135000.  ]\n",
      " [159648.93 134450.  ]\n",
      " [163266.98 180500.  ]\n",
      " [244319.64 193500.  ]\n",
      " [173602.39 156500.  ]\n",
      " [102739.03 132000.  ]\n",
      " [190992.65 224500.  ]\n",
      " [162923.23 139000.  ]\n",
      " [184654.89 225000.  ]\n",
      " [165637.31 188500.  ]\n",
      " [ 75517.73 118000.  ]\n",
      " [ 78894.12  82000.  ]\n",
      " [231645.88 392000.  ]\n",
      " [ 87048.46 112000.  ]\n",
      " [240935.22 248900.  ]\n",
      " [126145.86 134500.  ]\n",
      " [ 85832.67  79500.  ]\n",
      " [294856.98 320000.  ]\n",
      " [179693.85 158000.  ]\n",
      " [153798.75 140000.  ]\n",
      " [116131.04 136500.  ]\n",
      " [120292.83 107500.  ]\n",
      " [133908.41 145000.  ]\n",
      " [296693.11 200500.  ]\n",
      " [190743.83 185000.  ]\n",
      " [145771.36 105000.  ]\n",
      " [196720.07 202665.  ]\n",
      " [160626.22 186000.  ]\n",
      " [122625.36 136000.  ]\n",
      " [196388.69 200500.  ]\n",
      " [202560.68 190000.  ]\n",
      " [168258.38 187500.  ]\n",
      " [225097.43 200000.  ]\n",
      " [195720.66 172500.  ]\n",
      " [166701.7  157000.  ]\n",
      " [228342.75 213000.  ]\n",
      " [186333.46 185000.  ]\n",
      " [ 99063.59 124500.  ]\n",
      " [182871.07 162900.  ]\n",
      " [256235.26 260000.  ]\n",
      " [192418.5  198500.  ]\n",
      " [103586.58 120000.  ]\n",
      " [147416.89 159500.  ]\n",
      " [ 99767.74 105900.  ]\n",
      " [255327.72 260000.  ]\n",
      " [191957.5  143000.  ]\n",
      " [126404.08 106500.  ]\n",
      " [172325.46 178900.  ]\n",
      " [102048.54 127000.  ]\n",
      " [ 74963.31  90350.  ]\n",
      " [126161.22 118500.  ]\n",
      " [208951.29 190000.  ]\n",
      " [124369.42 119900.  ]\n",
      " [177403.11 183900.  ]\n",
      " [182802.73 155000.  ]\n",
      " [365282.4  386250.  ]\n",
      " [111823.2  133000.  ]\n",
      " [240814.44 193500.  ]\n",
      " [253110.57 270000.  ]\n",
      " [116565.01 141000.  ]\n",
      " [163669.31 146000.  ]\n",
      " [136147.08 128500.  ]\n",
      " [220466.23 176000.  ]\n",
      " [221830.17 214000.  ]\n",
      " [244721.08 222000.  ]\n",
      " [298409.36 415298.  ]\n",
      " [193288.   187750.  ]\n",
      " [187721.97 199900.  ]\n",
      " [206156.22 180000.  ]\n",
      " [208513.06 206300.  ]\n",
      " [196463.44 194000.  ]\n",
      " [115868.8  142953.  ]\n",
      " [208306.2  182900.  ]\n",
      " [ 84934.35 116050.  ]\n",
      " [223536.04 213250.  ]\n",
      " [157529.93 139500.  ]\n",
      " [183002.13 179000.  ]\n",
      " [ 96344.66 107900.  ]\n",
      " [181157.72 175900.  ]\n",
      " [123135.16 158500.  ]\n",
      " [132587.73 145000.  ]\n",
      " [256501.07 217000.  ]\n",
      " [148323.85 150500.  ]\n",
      " [143254.41 108959.  ]\n",
      " [169950.96 165600.  ]\n",
      " [201285.97 201000.  ]\n",
      " [125114.67 145500.  ]\n",
      " [268065.61 319900.  ]\n",
      " [214912.46 215000.  ]\n",
      " [230432.06 180500.  ]\n",
      " [332485.59 367294.  ]\n",
      " [261455.63 239000.  ]\n",
      " [167845.73 145900.  ]\n",
      " [136390.5  161000.  ]\n",
      " [357962.75 250000.  ]\n",
      " [182165.11  89471.  ]\n",
      " [144736.82 230000.  ]\n",
      " [102469.31 147000.  ]\n",
      " [155359.76 163900.  ]\n",
      " [123865.84  97000.  ]\n",
      " [169128.98 142000.  ]\n",
      " [173125.55 197000.  ]\n",
      " [151925.92 129000.  ]\n",
      " [230672.27 232000.  ]\n",
      " [132115.81 115000.  ]\n",
      " [160957.56 175000.  ]\n",
      " [304815.49 265000.  ]\n",
      " [216965.26 207000.  ]\n",
      " [185466.94 181000.  ]\n",
      " [203202.61 176000.  ]\n",
      " [177021.24 171000.  ]\n",
      " [231618.45 196000.  ]\n",
      " [191640.24 176000.  ]\n",
      " [124151.8  113000.  ]\n",
      " [ 92933.95 139000.  ]\n",
      " [139278.39 135000.  ]\n",
      " [285854.07 240000.  ]\n",
      " [157580.23 112000.  ]\n",
      " [118514.76 134000.  ]\n",
      " [270324.74 316600.  ]\n",
      " [202238.48 170000.  ]\n",
      " [125959.25 116000.  ]\n",
      " [266077.77 306000.  ]\n",
      " [134914.26  82500.  ]\n",
      " [189063.63 175000.  ]\n",
      " [104115.79 106000.  ]\n",
      " [208290.44 194000.  ]\n",
      " [174462.45 194201.  ]\n",
      " [134762.85 155900.  ]\n",
      " [127418.6  138000.  ]\n",
      " [160833.51 177000.  ]\n",
      " [207538.5  214000.  ]\n",
      " [128274.47 148000.  ]\n",
      " [112068.62 127000.  ]\n",
      " [145856.17 142500.  ]\n",
      " [ 93073.19  80000.  ]\n",
      " [112015.51 145000.  ]\n",
      " [177741.73 171000.  ]\n",
      " [178705.78 122500.  ]\n",
      " [132348.88 139000.  ]\n",
      " [190202.38 189000.  ]\n",
      " [130759.15 120500.  ]\n",
      " [118821.32 124000.  ]\n",
      " [ 81766.58 160000.  ]\n",
      " [247008.75 200000.  ]\n",
      " [176136.93 160000.  ]\n",
      " [289830.56 313000.  ]\n",
      " [251925.92 275000.  ]\n",
      " [ 86964.99  67000.  ]\n",
      " [154350.31 159000.  ]\n",
      " [236908.38 251000.  ]\n",
      " [ 56398.62  92900.  ]\n",
      " [ 89247.65 109500.  ]\n",
      " [312758.01 385000.  ]\n",
      " [245212.32 129000.  ]\n",
      " [205770.58  82500.  ]\n",
      " [275956.59 301000.  ]\n",
      " [234077.26 249700.  ]\n",
      " [ 76241.69  81000.  ]\n",
      " [223565.66 187500.  ]\n",
      " [177241.57 110000.  ]\n",
      " [133973.8  117000.  ]\n",
      " [ 90792.15 128500.  ]\n",
      " [202711.59 213490.  ]\n",
      " [279775.72 284000.  ]\n",
      " [224611.18 230500.  ]\n",
      " [233084.1  190000.  ]\n",
      " [121174.64 135000.  ]\n",
      " [170785.72 152000.  ]\n",
      " [ 71611.12  87500.  ]\n",
      " [131408.73 155000.  ]\n",
      " [ 73739.94 115000.  ]\n",
      " [124482.46 144000.  ]\n",
      " [213822.62 248000.  ]\n",
      " [103753.49 132500.  ]\n",
      " [ 94532.59 136000.  ]\n",
      " [ 98876.58 117000.  ]\n",
      " [ 35907.89  82000.  ]\n",
      " [214009.61 157500.  ]\n",
      " [122130.7  110000.  ]\n",
      " [188172.68 181000.  ]\n",
      " [201446.27 192500.  ]\n",
      " [211429.79 223500.  ]\n",
      " [184105.   181500.  ]\n",
      " [128167.7  170000.  ]\n",
      " [190982.66 187500.  ]\n",
      " [174666.39 185900.  ]\n",
      " [150888.51 160000.  ]\n",
      " [206061.15 192000.  ]\n",
      " [182459.48 181900.  ]\n",
      " [254329.47 266000.  ]\n",
      " [ 76302.38  99900.  ]\n",
      " [378370.11 438780.  ]\n",
      " [199880.8  229456.  ]\n",
      " [237593.11 216837.  ]\n",
      " [ 73895.79 110500.  ]\n",
      " [262976.93 175900.  ]\n",
      " [449586.71 538000.  ]\n",
      " [879002.21 160000.  ]\n",
      " [225007.46 172500.  ]\n",
      " [126661.27 108000.  ]\n",
      " [185044.19 131500.  ]\n",
      " [ 36321.03 106250.  ]\n",
      " [384609.25 385000.  ]\n",
      " [271531.78 370878.  ]\n",
      " [316379.69 345000.  ]\n",
      " [ 73430.87  68500.  ]\n",
      " [171134.76 250000.  ]\n",
      " [237630.01 245350.  ]\n",
      " [116230.43 125000.  ]\n",
      " [206283.22 234000.  ]\n",
      " [156477.23 145000.  ]\n",
      " [195393.55 181000.  ]\n",
      " [110008.54 104000.  ]\n",
      " [224843.38 233000.  ]\n",
      " [176986.55 164000.  ]\n",
      " [144627.25 219500.  ]\n",
      " [188024.8  195000.  ]\n",
      " [143700.97 108000.  ]\n",
      " [128993.07 149900.  ]\n",
      " [301977.26 315000.  ]\n",
      " [142650.92 177500.  ]\n",
      " [149628.67 140000.  ]\n",
      " [198368.05 193879.  ]\n",
      " [252215.11 137900.  ]\n",
      " [132103.64 118000.  ]\n",
      " [258754.59 324000.  ]\n",
      " [406578.11 555000.  ]\n",
      " [195439.45 136000.  ]\n",
      " [ 64151.82  82500.  ]\n",
      " [ 89421.28 101000.  ]]\n"
     ]
    }
   ],
   "source": [
    "np.set_printoptions(precision=2)\n",
    "print(np.concatenate((y_pred.reshape(len(y_pred),1), y_valid.reshape(len(y_valid),1)),1))"
   ]
  },
  {
   "cell_type": "markdown",
   "metadata": {},
   "source": [
    "Mean Squared Error"
   ]
  },
  {
   "cell_type": "code",
   "execution_count": 22,
   "metadata": {},
   "outputs": [
    {
     "name": "stdout",
     "output_type": "stream",
     "text": [
      "Mean Squared Error (MSE): 3261444666.53\n",
      "R-squared (R2): 0.53\n"
     ]
    }
   ],
   "source": [
    "from sklearn.metrics import mean_squared_error, r2_score\n",
    "mse = mean_squared_error(y_valid, y_pred)\n",
    "r_squared = r2_score(y_valid, y_pred)\n",
    "print(f\"Mean Squared Error (MSE): {mse:.2f}\")\n",
    "print(f\"R-squared (R2): {r_squared:.2f}\")"
   ]
  },
  {
   "cell_type": "code",
   "execution_count": 23,
   "metadata": {},
   "outputs": [
    {
     "data": {
      "text/plain": [
       "LotArea          9947.0\n",
       "MasVnrArea          0.0\n",
       "BsmtFinSF1        611.0\n",
       "BsmtFinSF2          0.0\n",
       "BsmtUnfSF         577.0\n",
       "TotalBsmtSF      1188.0\n",
       "1stFlrSF         1217.0\n",
       "2ndFlrSF            0.0\n",
       "LowQualFinSF        0.0\n",
       "GrLivArea        1217.0\n",
       "GarageArea        497.0\n",
       "WoodDeckSF        168.0\n",
       "OpenPorchSF        27.0\n",
       "EnclosedPorch       0.0\n",
       "3SsnPorch           0.0\n",
       "ScreenPorch         0.0\n",
       "PoolArea            0.0\n",
       "BsmtFullBath        1.0\n",
       "BsmtHalfBath        0.0\n",
       "FullBath            2.0\n",
       "BedroomAbvGr        3.0\n",
       "KitchenAbvGr        1.0\n",
       "TotRmsAbvGrd        6.0\n",
       "Name: 186, dtype: float64"
      ]
     },
     "execution_count": 23,
     "metadata": {},
     "output_type": "execute_result"
    }
   ],
   "source": [
    "X_train.iloc[17]"
   ]
  },
  {
   "cell_type": "code",
   "execution_count": 24,
   "metadata": {},
   "outputs": [
    {
     "name": "stdout",
     "output_type": "stream",
     "text": [
      "Predicted Price for new data: $178,129.33\n"
     ]
    },
    {
     "name": "stderr",
     "output_type": "stream",
     "text": [
      "C:\\Users\\rjcha\\anaconda3\\Lib\\site-packages\\sklearn\\base.py:439: UserWarning: X does not have valid feature names, but LinearRegression was fitted with feature names\n",
      "  warnings.warn(\n"
     ]
    }
   ],
   "source": [
    "new_data = np.array([[9947.0, 0.0, 611.0, 0.0, 577.0, 1188.0, 1217.0, 0.0, 0.0, 1217.0, 497.0, 168.0, 27.0, 0.0, 0.0, 0.0, 0.0, 1.0, 0.0, 2.0, 3.0, 1.0, 6.0]])\n",
    "predicted_price = reg.predict(new_data)\n",
    "print(f\"Predicted Price for new data: ${predicted_price[0]:,.2f}\")"
   ]
  }
 ],
 "metadata": {
  "colab": {
   "provenance": []
  },
  "kernelspec": {
   "display_name": "Python 3 (ipykernel)",
   "language": "python",
   "name": "python3"
  },
  "language_info": {
   "codemirror_mode": {
    "name": "ipython",
    "version": 3
   },
   "file_extension": ".py",
   "mimetype": "text/x-python",
   "name": "python",
   "nbconvert_exporter": "python",
   "pygments_lexer": "ipython3",
   "version": "3.11.3"
  }
 },
 "nbformat": 4,
 "nbformat_minor": 1
}
